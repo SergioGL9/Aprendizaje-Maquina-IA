{
  "nbformat": 4,
  "nbformat_minor": 0,
  "metadata": {
    "colab": {
      "provenance": []
    },
    "kernelspec": {
      "name": "python3",
      "display_name": "Python 3"
    },
    "language_info": {
      "name": "python"
    }
  },
  "cells": [
    {
      "cell_type": "code",
      "execution_count": null,
      "metadata": {
        "id": "EJuHsIS_PT-y",
        "colab": {
          "base_uri": "https://localhost:8080/"
        },
        "outputId": "5a101626-df44-43a0-cc16-4a48bba4d49f"
      },
      "outputs": [
        {
          "output_type": "stream",
          "name": "stdout",
          "text": [
            "Parámetros b -> 19\n",
            "b0 = -45082677.703\n",
            "b1 = 6463287.278\n",
            "b2 = 22076952.991\n",
            "b3 = 124669.925\n",
            "b4 = 145.115\n",
            "b5 = 10507297.529\n",
            "b6 = 93711599.691\n",
            "b7 = 7615612.896\n",
            "b8 = 3027930.388\n",
            "b9 = 1064760.187\n",
            "b10 = -158782.780\n",
            "b11 = -156575.766\n",
            "b12 = -1769.117\n",
            "b13 = 81.405\n",
            "b14 = -426.633\n",
            "b15 = 628439.871\n",
            "b16 = -90956.506\n",
            "b17 = 87.795\n",
            "b18 = 0.397\n"
          ]
        }
      ],
      "source": [
        "import numpy as np\n",
        "import pandas as pd\n",
        "\n",
        "def determinar_b(X, Y):\n",
        "    # Añadimos una columna de unos como en nuestro modelo\n",
        "    X = np.insert(X, 0, 1, axis=1)\n",
        "\n",
        "    # Calculamos los parámetros b mediante la fórmula de mínimos cuadrados\n",
        "    return np.linalg.inv(X.T @ X) @ X.T @ Y\n",
        "\n",
        "def main():\n",
        "    # Lectura de los primeros 500 registros desde el archivo CSV usando Pandas\n",
        "    data = pd.read_csv('/content/regresion lineal multiple - kc_house_data.csv - regresion lineal multiple - kc_house_data.csv.csv', nrows=500)\n",
        "\n",
        "    # Seleccionamos las columnas relevantes para X (características) y Y (objetivo)\n",
        "    x = data[['bedrooms', 'bathrooms', 'sqft_living', 'sqft_lot', 'floors',\n",
        "              'waterfront', 'view', 'condition', 'grade', 'sqft_above',\n",
        "              'sqft_basement', 'yr_built', 'yr_renovated', 'zipcode',\n",
        "              'lat', 'long', 'sqft_living15', 'sqft_lot15']].values\n",
        "    y = data['price'].values  # Suponiendo que 'price' es la columna objetivo\n",
        "\n",
        "    b = determinar_b(x, y)\n",
        "    print(\"Parámetros b ->\", len(b))\n",
        "\n",
        "    for i, param in enumerate(b):\n",
        "        print(\"b{} = {:.3f}\".format(i, param))\n",
        "\n",
        "if __name__ == \"__main__\":\n",
        "    main()\n"
      ]
    },
    {
      "cell_type": "code",
      "source": [
        "import pandas as pd\n",
        "from sklearn.model_selection import train_test_split\n",
        "from sklearn.linear_model import LinearRegression\n",
        "from sklearn.metrics import mean_squared_error\n",
        "\n",
        "def main():\n",
        "    # Lectura del archivo CSV con Pandas\n",
        "    data = pd.read_csv('/content/regresion lineal multiple - kc_house_data.csv - regresion lineal multiple - kc_house_data.csv.csv')\n",
        "\n",
        "    # Dividimos los datos en características (X) y variable objetivo (y)\n",
        "    X = data[['bedrooms', 'bathrooms', 'sqft_living', 'sqft_lot', 'floors',\n",
        "              'waterfront', 'view', 'condition', 'grade', 'sqft_above',\n",
        "              'sqft_basement', 'yr_built', 'yr_renovated', 'zipcode',\n",
        "              'lat', 'long', 'sqft_living15', 'sqft_lot15']]\n",
        "    y = data['price']\n",
        "\n",
        "    # Dividimos los datos en conjuntos de entrenamiento y prueba\n",
        "    X_train, X_test, y_train, y_test = train_test_split(X, y, test_size=0.2, random_state=42)\n",
        "\n",
        "    # Creamos el modelo de regresión lineal\n",
        "    model = LinearRegression()\n",
        "\n",
        "    # Entrenamos el modelo\n",
        "    model.fit(X_train, y_train)\n",
        "\n",
        "    # Imprimimos los coeficientes\n",
        "    print(\"Coeficientes:\")\n",
        "    for feature, coef in zip(X.columns, model.coef_):\n",
        "        print(f\"{feature}: {coef}\")\n",
        "\n",
        "if __name__ == \"__main__\":\n",
        "    main()\n"
      ],
      "metadata": {
        "colab": {
          "base_uri": "https://localhost:8080/"
        },
        "id": "WkLuMCwwxUpz",
        "outputId": "ea1870ed-4369-44ac-c8b9-f02f497930d4"
      },
      "execution_count": 13,
      "outputs": [
        {
          "output_type": "stream",
          "name": "stdout",
          "text": [
            "Coeficientes:\n",
            "bedrooms: -34368.22835926327\n",
            "bathrooms: 44601.74743179936\n",
            "sqft_living: 109.08503588677884\n",
            "sqft_lot: 0.08873153261743368\n",
            "floors: 6990.305618377536\n",
            "waterfront: 562583.9618454002\n",
            "view: 53709.32917304238\n",
            "condition: 24547.23341250116\n",
            "grade: 94663.24254383508\n",
            "sqft_above: 70.07442946127388\n",
            "sqft_basement: 39.01060648697518\n",
            "yr_built: -2682.9564739769894\n",
            "yr_renovated: 20.422362029411893\n",
            "zipcode: -552.3504227330562\n",
            "lat: 596031.9144963947\n",
            "long: -194809.93385948864\n",
            "sqft_living15: 21.195838078492034\n",
            "sqft_lot15: -0.32586186857588473\n"
          ]
        }
      ]
    }
  ]
}