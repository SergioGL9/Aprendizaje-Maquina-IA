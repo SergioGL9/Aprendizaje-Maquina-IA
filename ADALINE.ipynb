{
 "cells": [
  {
   "cell_type": "code",
   "execution_count": 1,
   "metadata": {},
   "outputs": [
    {
     "name": "stdout",
     "output_type": "stream",
     "text": [
      "Input: [0 0], Predicted Output: -0.0768065537138072\n",
      "Input: [0 1], Predicted Output: 0.4192894992935333\n",
      "Input: [1 0], Predicted Output: 0.14177100398105524\n",
      "Input: [1 1], Predicted Output: 0.6378670569883957\n"
     ]
    }
   ],
   "source": [
    "import numpy as np\n",
    "\n",
    "class Adaline:\n",
    "    def __init__(self, input_size, learning_rate=0.01):\n",
    "        self.weights = np.random.randn(input_size + 1)  # +1 for bias\n",
    "        self.learning_rate = learning_rate\n",
    "    \n",
    "    def predict(self, x):\n",
    "        return np.dot(self.weights, np.insert(x, 0, 1))\n",
    "    \n",
    "    def train(self, x_train, y_train, epochs=100):\n",
    "        for _ in range(epochs):\n",
    "            for x, y in zip(x_train, y_train):\n",
    "                prediction = self.predict(x)\n",
    "                error = y - prediction\n",
    "                self.weights += self.learning_rate * error * np.insert(x, 0, 1)\n",
    "\n",
    "# Ejemplo de uso\n",
    "x_train = np.array([[0, 0], [0, 1], [1, 0], [1, 1]])\n",
    "y_train = np.array([0, 0, 0, 1])\n",
    "\n",
    "model = Adaline(input_size=2)\n",
    "model.train(x_train, y_train)\n",
    "\n",
    "# Evaluación\n",
    "for x in x_train:\n",
    "    print(f\"entrada: {x},prediccion de salida : {model.predict(x)}\")\n"
   ]
  }
 ],
 "metadata": {
  "kernelspec": {
   "display_name": "base",
   "language": "python",
   "name": "python3"
  },
  "language_info": {
   "codemirror_mode": {
    "name": "ipython",
    "version": 3
   },
   "file_extension": ".py",
   "mimetype": "text/x-python",
   "name": "python",
   "nbconvert_exporter": "python",
   "pygments_lexer": "ipython3",
   "version": "3.9.12"
  }
 },
 "nbformat": 4,
 "nbformat_minor": 2
}
