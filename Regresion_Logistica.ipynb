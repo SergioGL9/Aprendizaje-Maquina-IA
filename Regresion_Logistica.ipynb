{
 "cells": [
  {
   "cell_type": "code",
   "execution_count": null,
   "id": "bf4d2573",
   "metadata": {},
   "outputs": [],
   "source": [
    "\n",
    "import numpy as np\n",
    "import pandas as pd\n",
    "import matplotlib.pyplot as plt\n",
    "from sklearn.model_selection import train_test_split\n",
    "from sklearn.preprocessing import StandardScaler\n",
    "from sklearn.linear_model import LogisticRegression\n",
    "from sklearn.metrics import confusion_matrix\n",
    "\n",
    "# Clase de Regresión Logística propia (implementación manual)\n",
    "class LogisticRegressionManual:\n",
    "    def __init__(self, learning_rate=0.01, num_iterations=10000):\n",
    "        self.learning_rate = learning_rate\n",
    "        self.num_iterations = num_iterations\n",
    "\n",
    "    def sigmoid(self, z):\n",
    "        return 1 / (1 + np.exp(-z))\n",
    "\n",
    "    def fit(self, X, y):\n",
    "        self.weights = np.zeros(X.shape[1])\n",
    "        self.bias = 0\n",
    "        \n",
    "        for i in range(self.num_iterations):\n",
    "            model = np.dot(X, self.weights) + self.bias\n",
    "            prediction = self.sigmoid(model)\n",
    "            \n",
    "            # Gradiente descendiente para minimizar la función de coste\n",
    "            dw = np.dot(X.T, (prediction - y)) / len(y)\n",
    "            db = np.sum(prediction - y) / len(y)\n",
    "            \n",
    "            self.weights -= self.learning_rate * dw\n",
    "            self.bias -= self.learning_rate * db\n",
    "\n",
    "    def predict(self, X):\n",
    "        model = np.dot(X, self.weights) + self.bias\n",
    "        predictions = self.sigmoid(model)\n",
    "        return [1 if i > 0.5 else 0 for i in predictions]\n"
   ]
  },
  {
   "cell_type": "code",
   "execution_count": null,
   "id": "d77b635d",
   "metadata": {},
   "outputs": [],
   "source": [
    "\n",
    "data = pd.read_csv('/mnt/data/regresion logistica - Social_Network_Ads.csv - regresion logistica - Social_Network_Ads.csv.csv')\n",
    "data.head()\n"
   ]
  },
  {
   "cell_type": "code",
   "execution_count": null,
   "id": "ac6a708b",
   "metadata": {},
   "outputs": [],
   "source": [
    "\n",
    "# Seleccionar características relevantes\n",
    "X = data[['Age', 'EstimatedSalary']].values\n",
    "y = data['Purchased'].values\n",
    "\n",
    "# Dividir el conjunto de datos en entrenamiento y prueba\n",
    "X_train, X_test, y_train, y_test = train_test_split(X, y, test_size = 0.25, random_state = 0)\n",
    "\n",
    "# Escalar las características para ambas implementaciones\n",
    "sc = StandardScaler()\n",
    "X_train_scaled = sc.fit_transform(X_train)\n",
    "X_test_scaled = sc.transform(X_test)\n"
   ]
  },
  {
   "cell_type": "code",
   "execution_count": null,
   "id": "46c40815",
   "metadata": {},
   "outputs": [],
   "source": [
    "\n",
    "# Crear y entrenar el modelo de regresión logística manual\n",
    "manual_classifier = LogisticRegressionManual(learning_rate=0.01, num_iterations=5000)\n",
    "manual_classifier.fit(X_train_scaled, y_train)\n",
    "\n",
    "# Predecir los resultados del conjunto de prueba\n",
    "y_pred_manual = manual_classifier.predict(X_test_scaled)\n",
    "\n",
    "# Hacer la matriz de confusión para el modelo manual\n",
    "cm_manual = confusion_matrix(y_test, y_pred_manual)\n",
    "print(\"Confusión Matrix (Manual):\\n\", cm_manual)\n"
   ]
  },
  {
   "cell_type": "code",
   "execution_count": null,
   "id": "7f13ed89",
   "metadata": {},
   "outputs": [],
   "source": [
    "\n",
    "# Entrenar el modelo de regresión logística con Scikit-learn\n",
    "classifier = LogisticRegression(random_state = 0)\n",
    "classifier.fit(X_train_scaled, y_train)\n",
    "\n",
    "# Predecir los resultados del conjunto de prueba\n",
    "y_pred = classifier.predict(X_test_scaled)\n",
    "\n",
    "# Hacer la matriz de confusión para el modelo de Scikit-learn\n",
    "cm = confusion_matrix(y_test, y_pred)\n",
    "print(\"Confusión Matrix (Scikit-learn):\\n\", cm)\n"
   ]
  }
 ],
 "metadata": {},
 "nbformat": 4,
 "nbformat_minor": 5
}
