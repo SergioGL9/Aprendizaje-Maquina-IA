{
 "cells": [
  {
   "cell_type": "code",
   "execution_count": 1,
   "id": "bf4d2573",
   "metadata": {},
   "outputs": [],
   "source": [
    "\n",
    "import numpy as np\n",
    "import pandas as pd\n",
    "import matplotlib.pyplot as plt\n",
    "from sklearn.model_selection import train_test_split\n",
    "from sklearn.preprocessing import StandardScaler\n",
    "from sklearn.linear_model import LogisticRegression\n",
    "from sklearn.metrics import confusion_matrix\n",
    "\n",
    "# Clase de Regresión Logística propia (implementación manual)\n",
    "class LogisticRegressionManual:\n",
    "    def __init__(self, tasa_aprendizaje=0.01, cant_iteraciones=10000):\n",
    "        self.tasa_aprendizaje = tasa_aprendizaje\n",
    "        self.cant_iteraciones = cant_iteraciones\n",
    "\n",
    "    def sigmoid(self, z):\n",
    "        return 1 / (1 + np.exp(-z))\n",
    "\n",
    "    def fit(self, X, y):\n",
    "        self.weights = np.zeros(X.shape[1])\n",
    "        self.bias = 0\n",
    "        \n",
    "        for i in range(self.cant_iteraciones):\n",
    "            model = np.dot(X, self.weights) + self.bias\n",
    "            prediction = self.sigmoid(model)\n",
    "            \n",
    "            # Gradiente descendiente para minimizar la función de coste\n",
    "            dw = np.dot(X.T, (prediction - y)) / len(y)\n",
    "            db = np.sum(prediction - y) / len(y)\n",
    "            \n",
    "            self.weights -= self.tasa_aprendizaje * dw\n",
    "            self.bias -= self.tasa_aprendizaje * db\n",
    "\n",
    "    def predict(self, X):\n",
    "        model = np.dot(X, self.weights) + self.bias\n",
    "        predictions = self.sigmoid(model)\n",
    "        return [1 if i > 0.5 else 0 for i in predictions]\n"
   ]
  },
  {
   "cell_type": "code",
   "execution_count": 3,
   "id": "d77b635d",
   "metadata": {},
   "outputs": [
    {
     "data": {
      "text/html": [
       "<div>\n",
       "<style scoped>\n",
       "    .dataframe tbody tr th:only-of-type {\n",
       "        vertical-align: middle;\n",
       "    }\n",
       "\n",
       "    .dataframe tbody tr th {\n",
       "        vertical-align: top;\n",
       "    }\n",
       "\n",
       "    .dataframe thead th {\n",
       "        text-align: right;\n",
       "    }\n",
       "</style>\n",
       "<table border=\"1\" class=\"dataframe\">\n",
       "  <thead>\n",
       "    <tr style=\"text-align: right;\">\n",
       "      <th></th>\n",
       "      <th>User ID</th>\n",
       "      <th>Gender</th>\n",
       "      <th>Age</th>\n",
       "      <th>EstimatedSalary</th>\n",
       "      <th>Purchased</th>\n",
       "    </tr>\n",
       "  </thead>\n",
       "  <tbody>\n",
       "    <tr>\n",
       "      <th>0</th>\n",
       "      <td>15624510</td>\n",
       "      <td>Male</td>\n",
       "      <td>19</td>\n",
       "      <td>19000</td>\n",
       "      <td>0</td>\n",
       "    </tr>\n",
       "    <tr>\n",
       "      <th>1</th>\n",
       "      <td>15810944</td>\n",
       "      <td>Male</td>\n",
       "      <td>35</td>\n",
       "      <td>20000</td>\n",
       "      <td>0</td>\n",
       "    </tr>\n",
       "    <tr>\n",
       "      <th>2</th>\n",
       "      <td>15668575</td>\n",
       "      <td>Female</td>\n",
       "      <td>26</td>\n",
       "      <td>43000</td>\n",
       "      <td>0</td>\n",
       "    </tr>\n",
       "    <tr>\n",
       "      <th>3</th>\n",
       "      <td>15603246</td>\n",
       "      <td>Female</td>\n",
       "      <td>27</td>\n",
       "      <td>57000</td>\n",
       "      <td>0</td>\n",
       "    </tr>\n",
       "    <tr>\n",
       "      <th>4</th>\n",
       "      <td>15804002</td>\n",
       "      <td>Male</td>\n",
       "      <td>19</td>\n",
       "      <td>76000</td>\n",
       "      <td>0</td>\n",
       "    </tr>\n",
       "  </tbody>\n",
       "</table>\n",
       "</div>"
      ],
      "text/plain": [
       "    User ID  Gender  Age  EstimatedSalary  Purchased\n",
       "0  15624510    Male   19            19000          0\n",
       "1  15810944    Male   35            20000          0\n",
       "2  15668575  Female   26            43000          0\n",
       "3  15603246  Female   27            57000          0\n",
       "4  15804002    Male   19            76000          0"
      ]
     },
     "execution_count": 3,
     "metadata": {},
     "output_type": "execute_result"
    }
   ],
   "source": [
    "\n",
    "data = pd.read_csv('regresion logistica - Social_Network_Ads.csv - regresion logistica - Social_Network_Ads.csv.csv')\n",
    "data.head()\n"
   ]
  },
  {
   "cell_type": "code",
   "execution_count": 4,
   "id": "ac6a708b",
   "metadata": {},
   "outputs": [],
   "source": [
    "\n",
    "# Seleccionar características relevantes\n",
    "X = data[['Age', 'EstimatedSalary']].values\n",
    "y = data['Purchased'].values\n",
    "\n",
    "# Dividir el conjunto de datos en entrenamiento y prueba\n",
    "X_train, X_test, y_train, y_test = train_test_split(X, y, test_size = 0.25, random_state = 0)\n",
    "\n",
    "# Escalar las características para ambas implementaciones\n",
    "sc = StandardScaler()\n",
    "X_train_scaled = sc.fit_transform(X_train)\n",
    "X_test_scaled = sc.transform(X_test)\n"
   ]
  },
  {
   "cell_type": "code",
   "execution_count": 10,
   "id": "46c40815",
   "metadata": {},
   "outputs": [
    {
     "name": "stdout",
     "output_type": "stream",
     "text": [
      "Confusión Matrix (Manual):\n",
      " [[65  3]\n",
      " [ 8 24]]\n"
     ]
    }
   ],
   "source": [
    "\n",
    "# Crear y entrenar el modelo de regresión logística manual\n",
    "manual_classifier = LogisticRegressionManual(tasa_aprendizaje=0.01, cant_iteraciones=5000)\n",
    "manual_classifier.fit(X_train_scaled, y_train)\n",
    "\n",
    "# Predecir los resultados del conjunto de prueba\n",
    "y_pred_manual = manual_classifier.predict(X_test_scaled)\n",
    "\n",
    "# Hacer la matriz de confusión para el modelo manual\n",
    "cm_manual = confusion_matrix(y_test, y_pred_manual)\n",
    "print(\"Confusión Matrix (Manual):\\n\", cm_manual)\n"
   ]
  },
  {
   "cell_type": "code",
   "execution_count": 11,
   "id": "7f13ed89",
   "metadata": {},
   "outputs": [
    {
     "name": "stdout",
     "output_type": "stream",
     "text": [
      "Confusión Matrix (Scikit-learn):\n",
      " [[65  3]\n",
      " [ 8 24]]\n"
     ]
    }
   ],
   "source": [
    "\n",
    "# Entrenar el modelo de regresión logística con Scikit-learn\n",
    "classifier = LogisticRegression(random_state = 0)\n",
    "classifier.fit(X_train_scaled, y_train)\n",
    "\n",
    "# Predecir los resultados del conjunto de prueba\n",
    "y_pred = classifier.predict(X_test_scaled)\n",
    "\n",
    "# Hacer la matriz de confusión para el modelo de Scikit-learn\n",
    "cm = confusion_matrix(y_test, y_pred)\n",
    "print(\"Confusión Matrix (Scikit-learn):\\n\", cm)\n"
   ]
  }
 ],
 "metadata": {
  "kernelspec": {
   "display_name": "Python 3",
   "language": "python",
   "name": "python3"
  },
  "language_info": {
   "codemirror_mode": {
    "name": "ipython",
    "version": 3
   },
   "file_extension": ".py",
   "mimetype": "text/x-python",
   "name": "python",
   "nbconvert_exporter": "python",
   "pygments_lexer": "ipython3",
   "version": "3.12.0"
  }
 },
 "nbformat": 4,
 "nbformat_minor": 5
}
